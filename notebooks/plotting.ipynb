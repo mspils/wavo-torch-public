{
 "cells": [
  {
   "cell_type": "code",
   "execution_count": null,
   "id": "7b7bb136-eb75-48af-8082-183ca6e51fad",
   "metadata": {},
   "outputs": [],
   "source": [
    "import sys\n",
    "import os\n",
    "from  pathlib import Path\n",
    "import yaml\n",
    "import lightning.pytorch as pl\n",
    "\n",
    "import torch\n",
    "import pickle\n",
    "torch.set_float32_matmul_precision('high')\n",
    "\n",
    "import numpy as np\n",
    "import pandas as pd\n",
    "sys.path.insert(0, '../src')\n",
    "\n",
    "from data_tools import WaVoDataModule\n",
    "from models import WaVoLightningModule\n",
    "import utility as ut\n",
    "\n",
    "import plotly\n",
    "import plotly.graph_objs as go\n",
    "import ipywidgets as widgets\n"
   ]
  },
  {
   "cell_type": "code",
   "execution_count": null,
   "id": "f089ca07-c639-42a5-91df-22fb5f240be8",
   "metadata": {},
   "outputs": [],
   "source": []
  },
  {
   "cell_type": "code",
   "execution_count": null,
   "id": "bab2db5c-78d2-446e-89e2-a87a0f5592dc",
   "metadata": {},
   "outputs": [],
   "source": [
    "#Plotting functions\n",
    "\n",
    "colors = ['rgba(0,0,0,_)',\n",
    "          'rgba(255,0,0,_)','rgba(0,255,0,_)','rgba(0,0,255,_)',\n",
    "          'rgba(255,0,255,_)','rgba(255,255,0,_)','rgba(0,255,255,_)',\n",
    "          'rgba(128,0,0,_)','rgba(0,128,0,_)','rgba(0,0,128,_)',\n",
    "          'rgba(128,128,0,_)','rgba(128,0,128,_)','rgba(0,128,128,_)',\n",
    "          'rgba(128,128,128,_)','rgba(192,192,192,_)']\n",
    "\n",
    "def gc(i,op=1):\n",
    "    return colors[i % len(colors)].replace('_',str(op))\n",
    "\n",
    "\n",
    "def plot_normal(df,start,days=60,pred_hours=[1,12,24,48]):\n",
    "    end_string = str(pd.to_datetime(start)+pd.Timedelta(days=days))\n",
    "    start = ut.get_start_index(start,df,0)\n",
    "    end = ut.get_end_index(end_string,df)\n",
    "\n",
    "    fig = go.Figure()\n",
    "    fig.add_trace(go.Scatter(name='Gemessen',x=df[start:end].index,y=df[start:end][0], mode='lines',marker=dict(color=colors[0].replace('_','1')),showlegend=True))\n",
    "\n",
    "    for i,n in enumerate(pred_hours):\n",
    "        start_temp = start + n\n",
    "        end_temp = end + n\n",
    "        #fig.add_trace(go.Scatter(name=f\"{n} Stunden\", x=df[start_temp:end_temp].index,y=df[start:end][n],mode='lines',marker=dict(color=colors[n % len(colors)].replace('_','1')),showlegend=True,line=dict(dash='dot')))\n",
    "        fig.add_trace(go.Scatter(name=f\"{n} Stunden\", x=df[start_temp:end_temp].index,y=df[start:end][n],mode='lines',marker=dict(color=gc(i+1)),showlegend=True,line=dict(dash='dot')))\n",
    "    return fig"
   ]
  },
  {
   "cell_type": "code",
   "execution_count": null,
   "id": "7583d272-60b6-4952-855b-d1b27958f2bb",
   "metadata": {},
   "outputs": [],
   "source": [
    "# helper functions predictions/loading\n",
    "def load_stuff(model_dir):\n",
    "    with open(model_dir / 'hparams.yaml', 'r') as file:\n",
    "        #yaml_data = safe_load(file)\n",
    "        yaml_data = yaml.load(file, Loader=yaml.FullLoader)\n",
    "        yaml_data['scaler'] = pickle.loads(yaml_data['scaler'])\n",
    "        #yaml_data\n",
    "    \n",
    "    data_module = WaVoDataModule(**yaml_data)\n",
    "    #print(data_module.hparams)\n",
    "    data_module.setup(stage='predict')\n",
    "    df,data_loader,y_true = data_module.get_data_forecast()\n",
    "    model = WaVoLightningModule.load_from_checkpoint(next((model_dir / 'checkpoints').iterdir()))\n",
    "\n",
    "    return model, data_loader, y_true\n",
    "\n",
    "def get_pred(model,data_loader,y_true):\n",
    "    trainer = pl.Trainer(accelerator='gpu',devices=1,logger=False)\n",
    "    pred = trainer.predict(model, data_loader)\n",
    "    pred = np.concatenate(pred)\n",
    "    \n",
    "    y_pred = np.concatenate([np.expand_dims(y_true,axis=1),pred],axis=1)\n",
    "    y_pred = pd.DataFrame(y_pred,index=y_true.index,columns=range(49))\n",
    "    return y_pred"
   ]
  },
  {
   "cell_type": "code",
   "execution_count": null,
   "id": "408eb90b-0189-4ce3-8347-bb64967e8ddd",
   "metadata": {},
   "outputs": [],
   "source": [
    "model_dir = Path('../../models_torch/treia/lightning_logs/version_7/')\n",
    "model, data_loader, y_true = load_stuff(model_dir)\n",
    "y_pred = get_pred(model, data_loader, y_true)\n"
   ]
  },
  {
   "cell_type": "code",
   "execution_count": null,
   "id": "737e6334-e493-4dbd-939f-1866500c1a19",
   "metadata": {},
   "outputs": [],
   "source": [
    "fig = plot_normal(y_pred,start=\"2022-02-15\",days=15,pred_hours=[12,24,48])\n",
    "fig.update_layout(\n",
    "    template=\"plotly_white\",\n",
    "    width=1000,\n",
    "    height=600,\n",
    "    font_size=15,\n",
    "    legend=dict(x=0.8, y=1,font=dict(size=20)),\n",
    "    margin=dict(t=20,b=70,l=60,r=20,),\n",
    "    xaxis_title=\"Zeit\", \n",
    "    yaxis_title=\"Wasserstand [cm]\"\n",
    ")\n"
   ]
  },
  {
   "cell_type": "code",
   "execution_count": null,
   "id": "ed27eae8-9379-45a4-b1f8-56941da47e52",
   "metadata": {},
   "outputs": [],
   "source": []
  },
  {
   "cell_type": "code",
   "execution_count": null,
   "id": "cba42c74-f180-49a7-a174-33ae41ac64d1",
   "metadata": {},
   "outputs": [],
   "source": []
  },
  {
   "cell_type": "code",
   "execution_count": null,
   "id": "79c533b0-dc33-49d1-8368-2ddf0fede75a",
   "metadata": {},
   "outputs": [],
   "source": []
  },
  {
   "cell_type": "code",
   "execution_count": null,
   "id": "d62c7219-891b-440b-84aa-d66edd951807",
   "metadata": {},
   "outputs": [],
   "source": []
  },
  {
   "cell_type": "markdown",
   "id": "b1dd7f34-1c8d-4d3c-9bd3-c31cd88e25d2",
   "metadata": {},
   "source": [
    "## LFU July 23"
   ]
  },
  {
   "cell_type": "markdown",
   "id": "bc67c198-741d-4806-975e-bc19894b664d",
   "metadata": {},
   "source": [
    "### Pötrau multiple models"
   ]
  },
  {
   "cell_type": "code",
   "execution_count": null,
   "id": "a3bd8f8b-65b2-40f4-ad95-d18b5a0be60f",
   "metadata": {
    "scrolled": true
   },
   "outputs": [],
   "source": [
    "y_pred_list = []\n",
    "for i in range(1,20):\n",
    "    model_dir = Path(f'../../models_torch/pötrau/lightning_logs/version_{i}/')\n",
    "    model, data_loader, y_true = load_stuff(model_dir)\n",
    "    y_pred_list.append(get_pred(model, data_loader, y_true))"
   ]
  },
  {
   "cell_type": "code",
   "execution_count": null,
   "id": "65b0e37b-7a29-4392-b5c9-becc8618ca42",
   "metadata": {},
   "outputs": [],
   "source": [
    "### Pötrau plot all models"
   ]
  },
  {
   "cell_type": "code",
   "execution_count": null,
   "id": "55f9f8ec-706e-4930-996a-325a959c565e",
   "metadata": {},
   "outputs": [],
   "source": [
    "start=\"2022-02-15\"\n",
    "days = 15\n",
    "pred_hour = 1\n",
    "\n",
    "df = y_pred_list[0]\n",
    "\n",
    "\n",
    "end_string = str(pd.to_datetime(start)+pd.Timedelta(days=days))\n",
    "start = ut.get_start_index(start,df,0)\n",
    "end = ut.get_end_index(end_string,df)\n",
    "\n",
    "\n",
    "\n",
    "fig = go.Figure()\n",
    "\n",
    "\n",
    "fig.add_trace(go.Scatter(name='Gemessen',x=df[start:end].index,y=df[start:end][0], mode='lines',marker=dict(color=colors[0].replace('_','1')),showlegend=True))\n",
    "\n",
    "n = pred_hour\n",
    "for i,df in enumerate(y_pred_list):\n",
    "    start_temp = start + n\n",
    "    end_temp = end + n\n",
    "    fig.add_trace(go.Scatter(name=f\"{n} Stunden\", x=df[start_temp:end_temp].index,y=df[start:end][n],mode='lines',marker=dict(color=gc(i+1)),showlegend=False,line=dict(dash='dot')))\n",
    "\n",
    "fig.update_layout(\n",
    "    template=\"plotly_white\",\n",
    "    width=1000,\n",
    "    height=600,\n",
    "    font_size=15,\n",
    "    legend=dict(x=0.8, y=1,font=dict(size=20)),\n",
    "    margin=dict(t=20,b=70,l=60,r=20,),\n",
    "    xaxis_title=\"Zeit\", \n",
    "    yaxis_title=\"Wasserstand [cm]\"\n",
    ")"
   ]
  },
  {
   "cell_type": "markdown",
   "id": "c33048ff-c481-45e5-ba54-424e83eb292a",
   "metadata": {},
   "source": [
    "### Pötrau plot sdv"
   ]
  },
  {
   "cell_type": "code",
   "execution_count": null,
   "id": "4317d7db-5bac-4cc5-9a40-0f1852b56a9b",
   "metadata": {},
   "outputs": [],
   "source": [
    "\n",
    "\n",
    "n = 24\n",
    "\n",
    "true = y_pred_list[0][0]\n",
    "ensemble_forecast = pd.concat([df[n] for df in y_pred_list],axis=1)\n"
   ]
  },
  {
   "cell_type": "code",
   "execution_count": null,
   "id": "c8c55c76-4f41-474b-bc1e-234261ed2639",
   "metadata": {},
   "outputs": [],
   "source": [
    "\n",
    "start=\"2022-02-15\"\n",
    "days = 15\n",
    "\n",
    "df = true\n",
    "\n",
    "end_string = str(pd.to_datetime(start)+pd.Timedelta(days=days))\n",
    "start = ut.get_start_index(start,df,0)\n",
    "end = ut.get_end_index(end_string,df)\n",
    "\n",
    "\n",
    "\n",
    "fig = go.Figure()\n",
    "\n",
    "\n",
    "fig.add_trace(go.Scatter(name='Gemessen',x=df[start:end].index,y=df[start:end], mode='lines',marker=dict(color=colors[0].replace('_','1')),showlegend=True))\n",
    "\n",
    "start_temp = start + n\n",
    "end_temp = end + n\n",
    "\n",
    "x = df[start_temp:end_temp].index\n",
    "fig.add_trace(go.Scatter(name=f\"{n} Stunden Mittelwert\", x=x,y=ensemble_forecast[start:end].mean(axis=1),mode='lines',marker=dict(color=gc(1)),showlegend=True,line=dict(dash='dot')))\n",
    "#fig.add_trace(go.Scatter(name=f\"{n} Stunden Minimum\", x=x,y=ensemble_forecast[start:end].min(axis=1),mode='lines',marker=dict(color=gc(2)),showlegend=True,line=dict(dash='dot')))\n",
    "#fig.add_trace(go.Scatter(name=f\"{n} Stunden Maximum\", x=x,y=ensemble_forecast[start:end].max(axis=1),mode='lines',marker=dict(color=gc(3)),showlegend=True,line=dict(dash='dot')))\n",
    "fig.add_trace(go.Scatter(name=f\"{n} Stunden std\", x=x,y=ensemble_forecast[start:end].mean(axis=1) + ensemble_forecast[start:end].std(axis=1),mode='lines',marker=dict(color=gc(2)),showlegend=True,line=dict(dash='dot')))\n",
    "fig.add_trace(go.Scatter(name=f\"{n} Stunden std\", x=x,y=ensemble_forecast[start:end].mean(axis=1) - ensemble_forecast[start:end].std(axis=1),mode='lines',marker=dict(color=gc(2)),showlegend=True,line=dict(dash='dot')))\n",
    "\n",
    "\n",
    "fig.update_layout(\n",
    "    template=\"plotly_white\",\n",
    "    width=1000,\n",
    "    height=600,\n",
    "    font_size=15,\n",
    "    legend=dict(x=0.8, y=1,font=dict(size=20)),\n",
    "    margin=dict(t=20,b=70,l=60,r=20,),\n",
    "    xaxis_title=\"Zeit\", \n",
    "    yaxis_title=\"Wasserstand [cm]\"\n",
    ")"
   ]
  },
  {
   "cell_type": "code",
   "execution_count": null,
   "id": "3c6fccd4-a7d7-47b2-87fa-9b3f4f0f82d7",
   "metadata": {},
   "outputs": [],
   "source": []
  },
  {
   "cell_type": "code",
   "execution_count": null,
   "id": "bf6d097d-6fc0-483d-9bec-6f2a7fb19862",
   "metadata": {},
   "outputs": [],
   "source": []
  },
  {
   "cell_type": "code",
   "execution_count": null,
   "id": "59002f24-b077-4d9e-a870-d9525cdd4b45",
   "metadata": {},
   "outputs": [],
   "source": []
  },
  {
   "cell_type": "code",
   "execution_count": null,
   "id": "474a8a87-81e7-4aec-9df5-ac4670171ea6",
   "metadata": {},
   "outputs": [],
   "source": []
  },
  {
   "cell_type": "code",
   "execution_count": null,
   "id": "b0582378-285a-43d7-8554-9a9d5b799ecc",
   "metadata": {},
   "outputs": [],
   "source": []
  },
  {
   "cell_type": "code",
   "execution_count": null,
   "id": "6bba95c1-0dd2-4dc3-8313-e8ca650ac658",
   "metadata": {},
   "outputs": [],
   "source": []
  },
  {
   "cell_type": "markdown",
   "id": "5973ca9c-5fc0-48ae-a9f1-577b6864d039",
   "metadata": {},
   "source": [
    "### Treia"
   ]
  },
  {
   "cell_type": "code",
   "execution_count": null,
   "id": "36c5c60e-7b10-4595-be91-5b9603f46615",
   "metadata": {},
   "outputs": [],
   "source": [
    "model_dir = Path('../../models_torch/treia/lightning_logs/version_7/')\n",
    "model, data_loader, y_true = load_stuff(model_dir)\n",
    "y_pred = get_pred(model, data_loader, y_true)\n"
   ]
  },
  {
   "cell_type": "code",
   "execution_count": null,
   "id": "9046d906-64ca-4571-beb0-5602d8c9d289",
   "metadata": {},
   "outputs": [],
   "source": [
    "fig = plot_normal(y_pred,start=\"2022-02-15\",days=15,pred_hours=[12,24,48])\n",
    "fig.update_layout(\n",
    "    template=\"plotly_white\",\n",
    "    width=1000,\n",
    "    height=600,\n",
    "    font_size=15,\n",
    "    legend=dict(x=0.8, y=1,font=dict(size=20)),\n",
    "    margin=dict(t=20,b=70,l=60,r=20,),\n",
    "    xaxis_title=\"Zeit\", \n",
    "    yaxis_title=\"Wasserstand [cm]\"\n",
    ")\n",
    "fig.write_image(\"treia_feb_23.pdf\")\n"
   ]
  },
  {
   "cell_type": "code",
   "execution_count": null,
   "id": "f8313186-6c05-4bf7-8046-7140f640ad4d",
   "metadata": {},
   "outputs": [],
   "source": [
    "fig = plot_normal(y_pred,start=\"2022-05-01\",days=90,pred_hours=[12,24,48])\n",
    "fig.update_layout(\n",
    "    template=\"plotly_white\",\n",
    "    width=1000,\n",
    "    height=600,\n",
    "    font_size=15,\n",
    "    legend=dict(x=0.8, y=1,font=dict(size=20)),\n",
    "    margin=dict(t=20,b=70,l=60,r=20,),\n",
    "    xaxis_title=\"Zeit\", \n",
    "    yaxis_title=\"Wasserstand [cm]\"\n",
    ")\n",
    "fig.write_image(\"treia_summer_22.pdf\")\n"
   ]
  },
  {
   "cell_type": "code",
   "execution_count": null,
   "id": "3de932b2-7260-4bf6-8c16-ddb51fbfcc01",
   "metadata": {},
   "outputs": [],
   "source": [
    "fig = plot_normal(y_pred,start=\"2014-01-07\",days=100000,pred_hours=[12,24,48])\n",
    "fig.update_layout(xaxis_title=\"Zeit\",yaxis_title=\"Wasserstand [cm]\")\n",
    "fig.write_html(\"treia.html\")"
   ]
  },
  {
   "cell_type": "markdown",
   "id": "5f844bcf-e2bf-4b11-9669-261732dea886",
   "metadata": {},
   "source": [
    "### Pötrau"
   ]
  },
  {
   "cell_type": "code",
   "execution_count": null,
   "id": "a0c15b95-29fe-4efc-89fc-37a2fe06b640",
   "metadata": {},
   "outputs": [],
   "source": [
    "#model_dir = Path('../../models_torch/pötrau/lightning_logs/version_13/')\n",
    "model_dir = Path('../../models_torch/pötrau/lightning_logs/version_8/')\n",
    "model, data_loader, y_true = load_stuff(model_dir)\n",
    "y_pred = get_pred(model, data_loader, y_true)\n"
   ]
  },
  {
   "cell_type": "code",
   "execution_count": null,
   "id": "44c09d0c-ad44-4d76-804e-b5acee5ae7f3",
   "metadata": {},
   "outputs": [],
   "source": [
    "fig = plot_normal(y_pred,start=\"2022-02-15\",days=15,pred_hours=[12,24,48])\n",
    "fig.update_layout(\n",
    "    template=\"plotly_white\",\n",
    "    width=1000,\n",
    "    height=600,\n",
    "    font_size=15,\n",
    "    legend=dict(x=0.8, y=1,font=dict(size=20)),\n",
    "    margin=dict(t=20,b=70,l=60,r=20,),\n",
    "    xaxis_title=\"Zeit\", \n",
    "    yaxis_title=\"Wasserstand [cm]\"\n",
    ")\n",
    "#fig.write_image(\"pötrau_feb_23.pdf\")\n"
   ]
  },
  {
   "cell_type": "code",
   "execution_count": null,
   "id": "0c4d9aac-a98f-43c7-ba71-9584e95a8eab",
   "metadata": {},
   "outputs": [],
   "source": [
    "fig = plot_normal(y_pred,start=\"2020-09-01\",days=90,pred_hours=[12,24,48])\n",
    "fig.update_layout(\n",
    "    template=\"plotly_white\",\n",
    "    width=1000,\n",
    "    height=600,\n",
    "    font_size=15,\n",
    "    legend=dict(x=0.8, y=1,font=dict(size=20)),\n",
    "    margin=dict(t=20,b=70,l=60,r=20,),\n",
    "    xaxis_title=\"Zeit\", \n",
    "    yaxis_title=\"Wasserstand [cm]\"\n",
    ")\n",
    "fig.write_image(\"pötrau_fall_21.pdf\")\n",
    "fig"
   ]
  },
  {
   "cell_type": "code",
   "execution_count": null,
   "id": "f3fc5de5-65f5-4e1c-9714-e4b34fc710d1",
   "metadata": {},
   "outputs": [],
   "source": [
    "fig = plot_normal(y_pred,start=\"2014-01-07\",days=10000,pred_hours=[12,24,48])\n",
    "fig.update_layout(xaxis_title=\"Zeit\",yaxis_title=\"Wasserstand [cm]\")\n",
    "fig.write_html(\"pötrau.html\")"
   ]
  },
  {
   "cell_type": "code",
   "execution_count": null,
   "id": "d583c945-8b2d-400f-94f7-d7e7db22aaa2",
   "metadata": {},
   "outputs": [],
   "source": []
  },
  {
   "cell_type": "markdown",
   "id": "6e053532-f769-4b92-ae2d-bfc24d32b0ea",
   "metadata": {},
   "source": [
    "## alt"
   ]
  },
  {
   "cell_type": "code",
   "execution_count": null,
   "id": "02f7327a-54ff-4ae2-a80d-321b692db97d",
   "metadata": {},
   "outputs": [],
   "source": [
    "with open(model_dir / 'hparams.yaml', 'r') as file:\n",
    "    #yaml_data = safe_load(file)\n",
    "    yaml_data = yaml.load(file, Loader=yaml.FullLoader)\n",
    "    yaml_data['scaler'] = pickle.loads(yaml_data['scaler'])\n",
    "#yaml_data\n",
    "\n",
    "data_module = WaVoDataModule(**yaml_data)\n",
    "#print(data_module.hparams)\n",
    "data_module.setup(stage='predict')\n",
    "df,data_loader,y_true = data_module.get_data_forecast()\n",
    "model = WaVoLightningModule.load_from_checkpoint(next((model_dir / 'checkpoints').iterdir()))\n",
    "\n"
   ]
  },
  {
   "cell_type": "code",
   "execution_count": null,
   "id": "4aa525d4-1af0-4b14-aef0-adbf3f82eb64",
   "metadata": {},
   "outputs": [],
   "source": []
  }
 ],
 "metadata": {
  "kernelspec": {
   "display_name": "Python 3 (ipykernel)",
   "language": "python",
   "name": "python3"
  },
  "language_info": {
   "codemirror_mode": {
    "name": "ipython",
    "version": 3
   },
   "file_extension": ".py",
   "mimetype": "text/x-python",
   "name": "python",
   "nbconvert_exporter": "python",
   "pygments_lexer": "ipython3",
   "version": "3.8.10"
  }
 },
 "nbformat": 4,
 "nbformat_minor": 5
}
