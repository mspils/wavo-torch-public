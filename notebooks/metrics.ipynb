{
 "cells": [
  {
   "cell_type": "code",
   "execution_count": null,
   "id": "c1147ad1-1a89-4582-ba4a-39e93a012a03",
   "metadata": {},
   "outputs": [],
   "source": [
    "#import sys\n",
    "#import os\n",
    "from  pathlib import Path\n",
    "#import yaml\n",
    "#import lightning.pytorch as pl\n",
    "\n",
    "#import torch\n",
    "#import pickle\n",
    "#torch.set_float32_matmul_precision('high')\n",
    "\n",
    "import numpy as np\n",
    "import pandas as pd\n",
    "#sys.path.insert(0, '../src')\n",
    "\n",
    "#from data_tools import WaVoDataModule\n",
    "#from models import WaVoLightningModule\n",
    "#import utility as ut\n",
    "\n",
    "import plotly\n",
    "import plotly.graph_objs as go\n",
    "import ipywidgets as widgets\n",
    "import tensorboard as tb\n",
    "from plotly.subplots import make_subplots\n"
   ]
  },
  {
   "cell_type": "code",
   "execution_count": null,
   "id": "9cf5fbc5-8285-431d-8175-89eee7b58712",
   "metadata": {},
   "outputs": [],
   "source": [
    "#Plotting functions\n",
    "\n",
    "colors = ['rgba(0,0,0,_)',\n",
    "          'rgba(255,0,0,_)','rgba(0,255,0,_)','rgba(0,0,255,_)',\n",
    "          'rgba(255,0,255,_)','rgba(255,255,0,_)','rgba(0,255,255,_)',\n",
    "          'rgba(128,0,0,_)','rgba(0,128,0,_)','rgba(0,0,128,_)',\n",
    "          'rgba(128,128,0,_)','rgba(128,0,128,_)','rgba(0,128,128,_)',\n",
    "          'rgba(128,128,128,_)','rgba(192,192,192,_)']\n",
    "\n",
    "def gc(i,op=1):\n",
    "    return colors[i % len(colors)].replace('_',str(op))\n",
    "\n"
   ]
  },
  {
   "cell_type": "code",
   "execution_count": null,
   "id": "f949c3da-3e27-4ca3-bb41-62663ef2e017",
   "metadata": {},
   "outputs": [],
   "source": [
    "def save_experiment(experiment_id,file_name):\n",
    "    if (metric_folder / file_name).exists():\n",
    "        print(f'File {file_name} already exists')\n",
    "        return \n",
    "        \n",
    "    experiment = tb.data.experimental.ExperimentFromDev(experiment_id)\n",
    "    df = experiment.get_scalars()\n",
    "    df.to_csv(metric_folder/file_name)\n",
    "    \n",
    "def get_data(file_name,metric='hp/val_mae',df=None):\n",
    "    if df is None:\n",
    "        df = pd.read_csv(metric_folder / file_name,index_col=0)\n",
    "    df_filtered = df[df['tag'] == metric]\n",
    "    df_pivot = pd.pivot(df_filtered,index='step', columns='run', values='value')\n",
    "    #df_pivot.index = df_pivot.index+1\n",
    "    return df_pivot[1:]\n",
    "\n",
    "def add_subfig(df,fig,row,col,color=0,sdv=True):\n",
    "    fig.add_trace(go.Scatter(name='Mittelwert',x=df.index,y=df.mean(axis=1),mode='lines',marker=dict(color=gc(color)),showlegend=False),row=row,col=col)\n",
    "    if sdv:\n",
    "        fig.add_trace(go.Scatter(name='+ std',x=df.index,y=df.mean(axis=1)+df.std(axis=1),mode='lines',marker=dict(color=gc(color,)),line=dict(width=0),showlegend=False),row=row,col=col)\n",
    "        fig.add_trace(go.Scatter(name='- std',x=df.index,y=df.mean(axis=1)-df.std(axis=1),mode='lines',marker=dict(color=gc(color,)),line=dict(width=0),showlegend=False,fillcolor=gc(color,0.3),fill='tonexty'),row=row,col=col)\n"
   ]
  },
  {
   "cell_type": "code",
   "execution_count": null,
   "id": "91590434-d07e-4b46-8586-faaef1467d68",
   "metadata": {},
   "outputs": [],
   "source": [
    "metric_folder = Path('../../data/metrics/')"
   ]
  },
  {
   "cell_type": "code",
   "execution_count": null,
   "id": "e2cce018-41a8-4371-8c8f-aaa45b6a8fdd",
   "metadata": {},
   "outputs": [],
   "source": [
    "\n",
    "treia_july = (\"DEXKgXBzTbqBk13TvGbrGw\",\"treia_july.csv\")\n",
    "pötrau_july = (\"Hqp7G4zYQoSDqpc8ibXxSw\",\"pötrau_july.csv\")\n",
    "\n"
   ]
  },
  {
   "cell_type": "code",
   "execution_count": null,
   "id": "79706276-6d24-471f-af4a-75d047aad5a1",
   "metadata": {},
   "outputs": [],
   "source": [
    "save_experiment(*treia_july)\n",
    "save_experiment(*pötrau_july)"
   ]
  },
  {
   "cell_type": "code",
   "execution_count": null,
   "id": "271e5715-c32c-45c0-a99e-3d00cd4286e0",
   "metadata": {},
   "outputs": [],
   "source": []
  },
  {
   "cell_type": "code",
   "execution_count": null,
   "id": "8397bab9-9f6e-441a-ae55-3f7539a09fa9",
   "metadata": {},
   "outputs": [],
   "source": []
  },
  {
   "cell_type": "code",
   "execution_count": null,
   "id": "01537961-0aac-4391-a5cc-4e3cd1be95b0",
   "metadata": {},
   "outputs": [],
   "source": []
  },
  {
   "cell_type": "code",
   "execution_count": null,
   "id": "9a021e0b-1a03-4bcd-8f52-6059eb348e18",
   "metadata": {},
   "outputs": [],
   "source": []
  },
  {
   "cell_type": "code",
   "execution_count": null,
   "id": "3bbedba7-692a-4048-9972-853ea3b48d05",
   "metadata": {},
   "outputs": [],
   "source": []
  },
  {
   "cell_type": "code",
   "execution_count": null,
   "id": "3c784c07-bf22-4687-888e-6bc4e879f61f",
   "metadata": {},
   "outputs": [],
   "source": []
  },
  {
   "cell_type": "code",
   "execution_count": null,
   "id": "5b5ebfc3-2834-4502-ba18-819f081616d8",
   "metadata": {},
   "outputs": [],
   "source": [
    "df_pötrau_raw = pd.read_csv(metric_folder / pötrau_july[1],index_col=0)\n",
    "df = df_pötrau_raw\n",
    "row_titles = ['MAE (cm)','NSE','KGE']\n",
    "column_titles = ['Training','Validierung','Test']\n",
    "\n",
    "dsets = ['train','val','test']\n",
    "metric_names = ['mae','nse','kge']\n",
    "\n",
    "fig = make_subplots(rows=len(row_titles), cols=len(column_titles), start_cell=\"top-left\",\n",
    "                    column_titles=column_titles,\n",
    "                    row_titles=row_titles,\n",
    "                    #y_title='water level (cm)',\n",
    "                    x_title='Vorhersage Horizont (h)',\n",
    "                    shared_yaxes=True,\n",
    "                    shared_xaxes=True,\n",
    "                    vertical_spacing=0.03,\n",
    "                    horizontal_spacing=0.05,\n",
    "                   )\n",
    "\n",
    "for i,metric_name in enumerate(metric_names):\n",
    "    for j,dset in enumerate(dsets):\n",
    "        metric = f'hp/{dset}_{metric_name}'\n",
    "        df_pivot = get_data('',metric=metric,df=df)\n",
    "        add_subfig(df_pivot,fig,i+1,j+1)\n",
    "        \n",
    "fig.update_layout(\n",
    "    template=\"plotly_white\",\n",
    "    width=1000,\n",
    "    height=800,\n",
    "    font_size=15,\n",
    "    legend=dict(x=0.8, y=1,font=dict(size=20)),\n",
    "    margin=dict(t=50,b=70,l=60,r=20,),\n",
    ")\n",
    "fig.write_image(\"pötrau_metrics_normal.pdf\")\n"
   ]
  },
  {
   "cell_type": "code",
   "execution_count": null,
   "id": "f164ef75-ad52-41c6-975a-2bcc70678b30",
   "metadata": {},
   "outputs": [],
   "source": [
    "df_pötrau_raw = pd.read_csv(metric_folder / pötrau_july[1],index_col=0)\n",
    "df = df_pötrau_raw\n",
    "row_titles = ['MAE (cm)','NSE','KGE']\n",
    "column_titles = ['Training','Validierung','Test']\n",
    "\n",
    "dsets = ['train','val','test']\n",
    "metric_names = ['mae','nse','kge']\n",
    "\n",
    "fig = make_subplots(rows=len(row_titles), cols=len(column_titles), start_cell=\"top-left\",\n",
    "                    column_titles=column_titles,\n",
    "                    row_titles=row_titles,\n",
    "                    #y_title='water level (cm)',\n",
    "                    x_title='Vorhersage Horizont (h)',\n",
    "                    shared_yaxes=True,\n",
    "                    shared_xaxes=True,\n",
    "                    vertical_spacing=0.03,\n",
    "                    horizontal_spacing=0.05,\n",
    "                   )\n",
    "\n",
    "for i,metric_name in enumerate(metric_names):\n",
    "    for j,dset in enumerate(dsets):\n",
    "        metric = f'hp/{dset}_{metric_name}_flood'\n",
    "        df_pivot = get_data('',metric=metric,df=df)\n",
    "        add_subfig(df_pivot,fig,i+1,j+1)\n",
    "        \n",
    "fig.update_layout(\n",
    "    template=\"plotly_white\",\n",
    "    width=1000,\n",
    "    height=800,\n",
    "    font_size=15,\n",
    "    legend=dict(x=0.8, y=1,font=dict(size=20)),\n",
    "    margin=dict(t=50,b=70,l=60,r=20,),\n",
    ")\n",
    "fig.write_image(\"pötrau_metrics_flood.pdf\")\n"
   ]
  },
  {
   "cell_type": "code",
   "execution_count": null,
   "id": "fc6de892-c1ef-40cf-a06d-9167bd2e06e6",
   "metadata": {},
   "outputs": [],
   "source": []
  },
  {
   "cell_type": "code",
   "execution_count": null,
   "id": "5d9ff875-f229-49b6-82ac-f9211d7c2515",
   "metadata": {},
   "outputs": [],
   "source": []
  },
  {
   "cell_type": "code",
   "execution_count": null,
   "id": "78188537-f396-4e9f-8290-43d560fdad49",
   "metadata": {},
   "outputs": [],
   "source": [
    "df_treia_raw = pd.read_csv(metric_folder / treia_july[1],index_col=0)\n",
    "df = df_treia_raw\n",
    "row_titles = ['MAE (cm)','NSE','KGE']\n",
    "column_titles = ['Training','Validierung','Test']\n",
    "\n",
    "dsets = ['train','val','test']\n",
    "metric_names = ['mae','nse','kge']\n",
    "\n",
    "fig = make_subplots(rows=len(row_titles), cols=len(column_titles), start_cell=\"top-left\",\n",
    "                    column_titles=column_titles,\n",
    "                    row_titles=row_titles,\n",
    "                    #y_title='water level (cm)',\n",
    "                    x_title='Vorhersage Horizont (h)',\n",
    "                    shared_yaxes=True,\n",
    "                    shared_xaxes=True,\n",
    "                    vertical_spacing=0.03,\n",
    "                    horizontal_spacing=0.05,\n",
    "                   )\n",
    "\n",
    "for i,metric_name in enumerate(metric_names):\n",
    "    for j,dset in enumerate(dsets):\n",
    "        metric = f'hp/{dset}_{metric_name}'\n",
    "        df_pivot = get_data('',metric=metric,df=df)\n",
    "        add_subfig(df_pivot,fig,i+1,j+1)\n",
    "    \n",
    "fig.update_layout(\n",
    "    template=\"plotly_white\",\n",
    "    width=1000,\n",
    "    height=800,\n",
    "    font_size=15,\n",
    "    legend=dict(x=0.8, y=1,font=dict(size=20)),\n",
    "    margin=dict(t=50,b=70,l=60,r=20,),\n",
    ")\n",
    "fig.write_image(\"treia_metrics.pdf\")\n"
   ]
  },
  {
   "cell_type": "code",
   "execution_count": null,
   "id": "33af2afa-33d4-498d-a49a-00760e0a49e2",
   "metadata": {},
   "outputs": [],
   "source": [
    "df_treia_raw = pd.read_csv(metric_folder / treia_july[1],index_col=0)\n",
    "df = df_treia_raw\n",
    "row_titles = ['MAE (cm)','NSE','KGE']\n",
    "column_titles = ['Training','Validierung','Test']\n",
    "\n",
    "dsets = ['train','val','test']\n",
    "metric_names = ['mae','nse','kge']\n",
    "\n",
    "fig = make_subplots(rows=len(row_titles), cols=len(column_titles), start_cell=\"top-left\",\n",
    "                    column_titles=column_titles,\n",
    "                    row_titles=row_titles,\n",
    "                    #y_title='water level (cm)',\n",
    "                    x_title='Vorhersage Horizont (h)',\n",
    "                    shared_yaxes=True,\n",
    "                    shared_xaxes=True,\n",
    "                    vertical_spacing=0.03,\n",
    "                    horizontal_spacing=0.05,\n",
    "                   )\n",
    "\n",
    "for i,metric_name in enumerate(metric_names):\n",
    "    for j,dset in enumerate(dsets):\n",
    "        metric = f'hp/{dset}_{metric_name}_flood'\n",
    "        df_pivot = get_data('',metric=metric,df=df)\n",
    "        add_subfig(df_pivot,fig,i+1,j+1)\n",
    "    \n",
    "fig.update_layout(\n",
    "    template=\"plotly_white\",\n",
    "    width=1000,\n",
    "    height=800,\n",
    "    font_size=15,\n",
    "    legend=dict(x=0.8, y=1,font=dict(size=20)),\n",
    "    margin=dict(t=50,b=70,l=60,r=20,),\n",
    ")\n",
    "fig.write_image(\"treia_metrics_flood.pdf\")\n"
   ]
  },
  {
   "cell_type": "code",
   "execution_count": null,
   "id": "a93e3551-b56e-42b3-8d7e-9d9f85254114",
   "metadata": {},
   "outputs": [],
   "source": []
  },
  {
   "cell_type": "code",
   "execution_count": null,
   "id": "9902644c-e211-4aab-ba9d-17ceeb46e427",
   "metadata": {},
   "outputs": [],
   "source": []
  },
  {
   "cell_type": "code",
   "execution_count": null,
   "id": "bbd7214d-3bce-4522-b801-9f4fa0137dd6",
   "metadata": {},
   "outputs": [],
   "source": []
  },
  {
   "cell_type": "code",
   "execution_count": null,
   "id": "602e1fd9-b69d-4311-bd2f-b44996cc6798",
   "metadata": {},
   "outputs": [],
   "source": [
    "!pip install -U tbparse"
   ]
  },
  {
   "cell_type": "code",
   "execution_count": null,
   "id": "27283dc1-8437-4cb8-9a94-52f4cf022470",
   "metadata": {},
   "outputs": [],
   "source": [
    "from tbparse import SummaryReader\n",
    "\n",
    "summary_reader = SummaryReader('../../models_torch/treia/lightning_logs/version_10/', pivot=True, extra_columns={'dir_name'})\n",
    "\n",
    "summary_reader.scalars['hp/val_mae'].dropna()\n"
   ]
  },
  {
   "cell_type": "code",
   "execution_count": null,
   "id": "e25b0436-f43d-4298-8270-03929d9c1586",
   "metadata": {},
   "outputs": [],
   "source": [
    "\n",
    "summary_reader.hparams"
   ]
  }
 ],
 "metadata": {
  "kernelspec": {
   "display_name": "Python 3 (ipykernel)",
   "language": "python",
   "name": "python3"
  },
  "language_info": {
   "codemirror_mode": {
    "name": "ipython",
    "version": 3
   },
   "file_extension": ".py",
   "mimetype": "text/x-python",
   "name": "python",
   "nbconvert_exporter": "python",
   "pygments_lexer": "ipython3",
   "version": "3.8.10"
  }
 },
 "nbformat": 4,
 "nbformat_minor": 5
}
